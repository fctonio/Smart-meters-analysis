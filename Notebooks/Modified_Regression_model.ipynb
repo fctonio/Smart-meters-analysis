{
 "cells": [
  {
   "cell_type": "markdown",
   "metadata": {},
   "source": [
    "# Regression analysis"
   ]
  },
  {
   "cell_type": "code",
   "execution_count": 1,
   "metadata": {},
   "outputs": [],
   "source": [
    "import pandas as pd\n",
    "import numpy as np\n",
    "import statsmodels.api as sm \n",
    "import matplotlib.pyplot as plt   \n",
    "from sklearn.linear_model import LinearRegression\n",
    "from sklearn import metrics\n",
    "import warnings\n",
    "warnings.filterwarnings('ignore')"
   ]
  },
  {
   "cell_type": "markdown",
   "metadata": {},
   "source": [
    "**Importing different libraries to be used in building the Regression Model**\n",
    "- Pandas for maniplulation\n",
    "- Numpy\n",
    "- Matplotlib for visualization\n",
    "- Statsmodel to build multiple regression\n",
    "- Scikit Learn to build Linear Regression \n",
    "- Sklearn metrics to compute R-Squared"
   ]
  },
  {
   "cell_type": "markdown",
   "metadata": {},
   "source": [
    "First we have to read our dataset and have a look at the first 5"
   ]
  },
  {
   "cell_type": "code",
   "execution_count": 3,
   "metadata": {},
   "outputs": [],
   "source": [
    "df_merged = pd.read_csv(\"../Data/daily_weather_merged.csv\")"
   ]
  },
  {
   "cell_type": "code",
   "execution_count": 4,
   "metadata": {},
   "outputs": [
    {
     "data": {
      "text/html": [
       "<div>\n",
       "<style scoped>\n",
       "    .dataframe tbody tr th:only-of-type {\n",
       "        vertical-align: middle;\n",
       "    }\n",
       "\n",
       "    .dataframe tbody tr th {\n",
       "        vertical-align: top;\n",
       "    }\n",
       "\n",
       "    .dataframe thead th {\n",
       "        text-align: right;\n",
       "    }\n",
       "</style>\n",
       "<table border=\"1\" class=\"dataframe\">\n",
       "  <thead>\n",
       "    <tr style=\"text-align: right;\">\n",
       "      <th></th>\n",
       "      <th>Unnamed: 0</th>\n",
       "      <th>day</th>\n",
       "      <th>LCLid</th>\n",
       "      <th>energy_sum</th>\n",
       "      <th>energy_mean</th>\n",
       "      <th>energy_max</th>\n",
       "      <th>energy_min</th>\n",
       "      <th>energy_std</th>\n",
       "      <th>energy_count</th>\n",
       "      <th>dayTime</th>\n",
       "      <th>visibility</th>\n",
       "      <th>temperatureMin</th>\n",
       "      <th>temperatureMax</th>\n",
       "      <th>icon</th>\n",
       "      <th>cloudCover</th>\n",
       "      <th>moonPhase</th>\n",
       "    </tr>\n",
       "  </thead>\n",
       "  <tbody>\n",
       "    <tr>\n",
       "      <th>0</th>\n",
       "      <td>0</td>\n",
       "      <td>2011-11-23</td>\n",
       "      <td>MAC000149</td>\n",
       "      <td>2.287</td>\n",
       "      <td>0.081679</td>\n",
       "      <td>0.198</td>\n",
       "      <td>0.000</td>\n",
       "      <td>0.052851</td>\n",
       "      <td>28</td>\n",
       "      <td>8.52</td>\n",
       "      <td>8.06</td>\n",
       "      <td>3.81</td>\n",
       "      <td>10.36</td>\n",
       "      <td>fog</td>\n",
       "      <td>0.36</td>\n",
       "      <td>0.94</td>\n",
       "    </tr>\n",
       "    <tr>\n",
       "      <th>1</th>\n",
       "      <td>1</td>\n",
       "      <td>2011-11-23</td>\n",
       "      <td>MAC000154</td>\n",
       "      <td>5.798</td>\n",
       "      <td>0.252087</td>\n",
       "      <td>0.999</td>\n",
       "      <td>0.098</td>\n",
       "      <td>0.219155</td>\n",
       "      <td>23</td>\n",
       "      <td>8.52</td>\n",
       "      <td>8.06</td>\n",
       "      <td>3.81</td>\n",
       "      <td>10.36</td>\n",
       "      <td>fog</td>\n",
       "      <td>0.36</td>\n",
       "      <td>0.94</td>\n",
       "    </tr>\n",
       "    <tr>\n",
       "      <th>2</th>\n",
       "      <td>2</td>\n",
       "      <td>2011-11-23</td>\n",
       "      <td>MAC000156</td>\n",
       "      <td>6.523</td>\n",
       "      <td>0.296500</td>\n",
       "      <td>0.512</td>\n",
       "      <td>0.162</td>\n",
       "      <td>0.108046</td>\n",
       "      <td>22</td>\n",
       "      <td>8.52</td>\n",
       "      <td>8.06</td>\n",
       "      <td>3.81</td>\n",
       "      <td>10.36</td>\n",
       "      <td>fog</td>\n",
       "      <td>0.36</td>\n",
       "      <td>0.94</td>\n",
       "    </tr>\n",
       "    <tr>\n",
       "      <th>3</th>\n",
       "      <td>3</td>\n",
       "      <td>2011-11-23</td>\n",
       "      <td>MAC000150</td>\n",
       "      <td>9.254</td>\n",
       "      <td>0.330500</td>\n",
       "      <td>1.162</td>\n",
       "      <td>0.059</td>\n",
       "      <td>0.313498</td>\n",
       "      <td>28</td>\n",
       "      <td>8.52</td>\n",
       "      <td>8.06</td>\n",
       "      <td>3.81</td>\n",
       "      <td>10.36</td>\n",
       "      <td>fog</td>\n",
       "      <td>0.36</td>\n",
       "      <td>0.94</td>\n",
       "    </tr>\n",
       "    <tr>\n",
       "      <th>4</th>\n",
       "      <td>4</td>\n",
       "      <td>2011-11-23</td>\n",
       "      <td>MAC000147</td>\n",
       "      <td>3.036</td>\n",
       "      <td>0.108429</td>\n",
       "      <td>0.315</td>\n",
       "      <td>0.033</td>\n",
       "      <td>0.071653</td>\n",
       "      <td>28</td>\n",
       "      <td>8.52</td>\n",
       "      <td>8.06</td>\n",
       "      <td>3.81</td>\n",
       "      <td>10.36</td>\n",
       "      <td>fog</td>\n",
       "      <td>0.36</td>\n",
       "      <td>0.94</td>\n",
       "    </tr>\n",
       "  </tbody>\n",
       "</table>\n",
       "</div>"
      ],
      "text/plain": [
       "   Unnamed: 0         day      LCLid  energy_sum  energy_mean  energy_max  \\\n",
       "0           0  2011-11-23  MAC000149       2.287     0.081679       0.198   \n",
       "1           1  2011-11-23  MAC000154       5.798     0.252087       0.999   \n",
       "2           2  2011-11-23  MAC000156       6.523     0.296500       0.512   \n",
       "3           3  2011-11-23  MAC000150       9.254     0.330500       1.162   \n",
       "4           4  2011-11-23  MAC000147       3.036     0.108429       0.315   \n",
       "\n",
       "   energy_min  energy_std  energy_count  dayTime  visibility  temperatureMin  \\\n",
       "0       0.000    0.052851            28     8.52        8.06            3.81   \n",
       "1       0.098    0.219155            23     8.52        8.06            3.81   \n",
       "2       0.162    0.108046            22     8.52        8.06            3.81   \n",
       "3       0.059    0.313498            28     8.52        8.06            3.81   \n",
       "4       0.033    0.071653            28     8.52        8.06            3.81   \n",
       "\n",
       "   temperatureMax icon  cloudCover  moonPhase  \n",
       "0           10.36  fog        0.36       0.94  \n",
       "1           10.36  fog        0.36       0.94  \n",
       "2           10.36  fog        0.36       0.94  \n",
       "3           10.36  fog        0.36       0.94  \n",
       "4           10.36  fog        0.36       0.94  "
      ]
     },
     "execution_count": 4,
     "metadata": {},
     "output_type": "execute_result"
    }
   ],
   "source": [
    "df_merged.head()"
   ]
  },
  {
   "cell_type": "markdown",
   "metadata": {},
   "source": [
    "Our dataframe contains a lot of information regarding energy consumption, however our goal is to investigate which variables correlate with energy consumption in the UK. In this case, our target variable will be the sum of energy(energy_sum), the sum of energy being consumed per household."
   ]
  },
  {
   "cell_type": "code",
   "execution_count": 5,
   "metadata": {},
   "outputs": [],
   "source": [
    "#df_merged = df_merged.drop(columns = ['energy_mean','energy_max','energy_min','energy_std','energy_count'])"
   ]
  },
  {
   "cell_type": "code",
   "execution_count": 6,
   "metadata": {},
   "outputs": [
    {
     "data": {
      "text/html": [
       "<div>\n",
       "<style scoped>\n",
       "    .dataframe tbody tr th:only-of-type {\n",
       "        vertical-align: middle;\n",
       "    }\n",
       "\n",
       "    .dataframe tbody tr th {\n",
       "        vertical-align: top;\n",
       "    }\n",
       "\n",
       "    .dataframe thead th {\n",
       "        text-align: right;\n",
       "    }\n",
       "</style>\n",
       "<table border=\"1\" class=\"dataframe\">\n",
       "  <thead>\n",
       "    <tr style=\"text-align: right;\">\n",
       "      <th></th>\n",
       "      <th>Unnamed: 0</th>\n",
       "      <th>energy_sum</th>\n",
       "      <th>energy_mean</th>\n",
       "      <th>energy_max</th>\n",
       "      <th>energy_min</th>\n",
       "      <th>energy_std</th>\n",
       "      <th>energy_count</th>\n",
       "      <th>dayTime</th>\n",
       "      <th>visibility</th>\n",
       "      <th>temperatureMin</th>\n",
       "      <th>temperatureMax</th>\n",
       "      <th>cloudCover</th>\n",
       "      <th>moonPhase</th>\n",
       "    </tr>\n",
       "  </thead>\n",
       "  <tbody>\n",
       "    <tr>\n",
       "      <th>Unnamed: 0</th>\n",
       "      <td>1.000000</td>\n",
       "      <td>0.015727</td>\n",
       "      <td>0.016726</td>\n",
       "      <td>0.006051</td>\n",
       "      <td>0.007317</td>\n",
       "      <td>0.012307</td>\n",
       "      <td>-0.013927</td>\n",
       "      <td>-0.282833</td>\n",
       "      <td>-0.007156</td>\n",
       "      <td>-0.101954</td>\n",
       "      <td>-0.107935</td>\n",
       "      <td>-0.012012</td>\n",
       "      <td>0.012916</td>\n",
       "    </tr>\n",
       "    <tr>\n",
       "      <th>energy_sum</th>\n",
       "      <td>0.015727</td>\n",
       "      <td>1.000000</td>\n",
       "      <td>0.993789</td>\n",
       "      <td>0.765571</td>\n",
       "      <td>0.709064</td>\n",
       "      <td>0.779652</td>\n",
       "      <td>0.063595</td>\n",
       "      <td>-0.155491</td>\n",
       "      <td>-0.057871</td>\n",
       "      <td>-0.162209</td>\n",
       "      <td>-0.169893</td>\n",
       "      <td>0.055220</td>\n",
       "      <td>-0.011047</td>\n",
       "    </tr>\n",
       "    <tr>\n",
       "      <th>energy_mean</th>\n",
       "      <td>0.016726</td>\n",
       "      <td>0.993789</td>\n",
       "      <td>1.000000</td>\n",
       "      <td>0.763081</td>\n",
       "      <td>0.730749</td>\n",
       "      <td>0.779707</td>\n",
       "      <td>0.004787</td>\n",
       "      <td>-0.155208</td>\n",
       "      <td>-0.058052</td>\n",
       "      <td>-0.163280</td>\n",
       "      <td>-0.171155</td>\n",
       "      <td>0.056227</td>\n",
       "      <td>-0.007731</td>\n",
       "    </tr>\n",
       "    <tr>\n",
       "      <th>energy_max</th>\n",
       "      <td>0.006051</td>\n",
       "      <td>0.765571</td>\n",
       "      <td>0.763081</td>\n",
       "      <td>1.000000</td>\n",
       "      <td>0.358941</td>\n",
       "      <td>0.945955</td>\n",
       "      <td>0.053773</td>\n",
       "      <td>-0.133864</td>\n",
       "      <td>-0.053414</td>\n",
       "      <td>-0.148734</td>\n",
       "      <td>-0.154002</td>\n",
       "      <td>0.049828</td>\n",
       "      <td>-0.009239</td>\n",
       "    </tr>\n",
       "    <tr>\n",
       "      <th>energy_min</th>\n",
       "      <td>0.007317</td>\n",
       "      <td>0.709064</td>\n",
       "      <td>0.730749</td>\n",
       "      <td>0.358941</td>\n",
       "      <td>1.000000</td>\n",
       "      <td>0.272997</td>\n",
       "      <td>-0.078905</td>\n",
       "      <td>-0.045883</td>\n",
       "      <td>-0.017483</td>\n",
       "      <td>-0.053391</td>\n",
       "      <td>-0.055462</td>\n",
       "      <td>0.018324</td>\n",
       "      <td>0.001037</td>\n",
       "    </tr>\n",
       "    <tr>\n",
       "      <th>energy_std</th>\n",
       "      <td>0.012307</td>\n",
       "      <td>0.779652</td>\n",
       "      <td>0.779707</td>\n",
       "      <td>0.945955</td>\n",
       "      <td>0.272997</td>\n",
       "      <td>1.000000</td>\n",
       "      <td>-0.000478</td>\n",
       "      <td>-0.158844</td>\n",
       "      <td>-0.061735</td>\n",
       "      <td>-0.173328</td>\n",
       "      <td>-0.180356</td>\n",
       "      <td>0.058609</td>\n",
       "      <td>-0.006214</td>\n",
       "    </tr>\n",
       "    <tr>\n",
       "      <th>energy_count</th>\n",
       "      <td>-0.013927</td>\n",
       "      <td>0.063595</td>\n",
       "      <td>0.004787</td>\n",
       "      <td>0.053773</td>\n",
       "      <td>-0.078905</td>\n",
       "      <td>-0.000478</td>\n",
       "      <td>1.000000</td>\n",
       "      <td>-0.006474</td>\n",
       "      <td>0.001722</td>\n",
       "      <td>0.018552</td>\n",
       "      <td>0.022019</td>\n",
       "      <td>-0.017678</td>\n",
       "      <td>-0.057401</td>\n",
       "    </tr>\n",
       "    <tr>\n",
       "      <th>dayTime</th>\n",
       "      <td>-0.282833</td>\n",
       "      <td>-0.155491</td>\n",
       "      <td>-0.155208</td>\n",
       "      <td>-0.133864</td>\n",
       "      <td>-0.045883</td>\n",
       "      <td>-0.158844</td>\n",
       "      <td>-0.006474</td>\n",
       "      <td>1.000000</td>\n",
       "      <td>0.266999</td>\n",
       "      <td>0.640114</td>\n",
       "      <td>0.701426</td>\n",
       "      <td>-0.156622</td>\n",
       "      <td>0.007926</td>\n",
       "    </tr>\n",
       "    <tr>\n",
       "      <th>visibility</th>\n",
       "      <td>-0.007156</td>\n",
       "      <td>-0.057871</td>\n",
       "      <td>-0.058052</td>\n",
       "      <td>-0.053414</td>\n",
       "      <td>-0.017483</td>\n",
       "      <td>-0.061735</td>\n",
       "      <td>0.001722</td>\n",
       "      <td>0.266999</td>\n",
       "      <td>1.000000</td>\n",
       "      <td>0.202849</td>\n",
       "      <td>0.299871</td>\n",
       "      <td>-0.382609</td>\n",
       "      <td>0.076821</td>\n",
       "    </tr>\n",
       "    <tr>\n",
       "      <th>temperatureMin</th>\n",
       "      <td>-0.101954</td>\n",
       "      <td>-0.162209</td>\n",
       "      <td>-0.163280</td>\n",
       "      <td>-0.148734</td>\n",
       "      <td>-0.053391</td>\n",
       "      <td>-0.173328</td>\n",
       "      <td>0.018552</td>\n",
       "      <td>0.640114</td>\n",
       "      <td>0.202849</td>\n",
       "      <td>1.000000</td>\n",
       "      <td>0.904017</td>\n",
       "      <td>-0.116567</td>\n",
       "      <td>0.004664</td>\n",
       "    </tr>\n",
       "    <tr>\n",
       "      <th>temperatureMax</th>\n",
       "      <td>-0.107935</td>\n",
       "      <td>-0.169893</td>\n",
       "      <td>-0.171155</td>\n",
       "      <td>-0.154002</td>\n",
       "      <td>-0.055462</td>\n",
       "      <td>-0.180356</td>\n",
       "      <td>0.022019</td>\n",
       "      <td>0.701426</td>\n",
       "      <td>0.299871</td>\n",
       "      <td>0.904017</td>\n",
       "      <td>1.000000</td>\n",
       "      <td>-0.371125</td>\n",
       "      <td>0.024802</td>\n",
       "    </tr>\n",
       "    <tr>\n",
       "      <th>cloudCover</th>\n",
       "      <td>-0.012012</td>\n",
       "      <td>0.055220</td>\n",
       "      <td>0.056227</td>\n",
       "      <td>0.049828</td>\n",
       "      <td>0.018324</td>\n",
       "      <td>0.058609</td>\n",
       "      <td>-0.017678</td>\n",
       "      <td>-0.156622</td>\n",
       "      <td>-0.382609</td>\n",
       "      <td>-0.116567</td>\n",
       "      <td>-0.371125</td>\n",
       "      <td>1.000000</td>\n",
       "      <td>-0.074047</td>\n",
       "    </tr>\n",
       "    <tr>\n",
       "      <th>moonPhase</th>\n",
       "      <td>0.012916</td>\n",
       "      <td>-0.011047</td>\n",
       "      <td>-0.007731</td>\n",
       "      <td>-0.009239</td>\n",
       "      <td>0.001037</td>\n",
       "      <td>-0.006214</td>\n",
       "      <td>-0.057401</td>\n",
       "      <td>0.007926</td>\n",
       "      <td>0.076821</td>\n",
       "      <td>0.004664</td>\n",
       "      <td>0.024802</td>\n",
       "      <td>-0.074047</td>\n",
       "      <td>1.000000</td>\n",
       "    </tr>\n",
       "  </tbody>\n",
       "</table>\n",
       "</div>"
      ],
      "text/plain": [
       "                Unnamed: 0  energy_sum  energy_mean  energy_max  energy_min  \\\n",
       "Unnamed: 0        1.000000    0.015727     0.016726    0.006051    0.007317   \n",
       "energy_sum        0.015727    1.000000     0.993789    0.765571    0.709064   \n",
       "energy_mean       0.016726    0.993789     1.000000    0.763081    0.730749   \n",
       "energy_max        0.006051    0.765571     0.763081    1.000000    0.358941   \n",
       "energy_min        0.007317    0.709064     0.730749    0.358941    1.000000   \n",
       "energy_std        0.012307    0.779652     0.779707    0.945955    0.272997   \n",
       "energy_count     -0.013927    0.063595     0.004787    0.053773   -0.078905   \n",
       "dayTime          -0.282833   -0.155491    -0.155208   -0.133864   -0.045883   \n",
       "visibility       -0.007156   -0.057871    -0.058052   -0.053414   -0.017483   \n",
       "temperatureMin   -0.101954   -0.162209    -0.163280   -0.148734   -0.053391   \n",
       "temperatureMax   -0.107935   -0.169893    -0.171155   -0.154002   -0.055462   \n",
       "cloudCover       -0.012012    0.055220     0.056227    0.049828    0.018324   \n",
       "moonPhase         0.012916   -0.011047    -0.007731   -0.009239    0.001037   \n",
       "\n",
       "                energy_std  energy_count   dayTime  visibility  \\\n",
       "Unnamed: 0        0.012307     -0.013927 -0.282833   -0.007156   \n",
       "energy_sum        0.779652      0.063595 -0.155491   -0.057871   \n",
       "energy_mean       0.779707      0.004787 -0.155208   -0.058052   \n",
       "energy_max        0.945955      0.053773 -0.133864   -0.053414   \n",
       "energy_min        0.272997     -0.078905 -0.045883   -0.017483   \n",
       "energy_std        1.000000     -0.000478 -0.158844   -0.061735   \n",
       "energy_count     -0.000478      1.000000 -0.006474    0.001722   \n",
       "dayTime          -0.158844     -0.006474  1.000000    0.266999   \n",
       "visibility       -0.061735      0.001722  0.266999    1.000000   \n",
       "temperatureMin   -0.173328      0.018552  0.640114    0.202849   \n",
       "temperatureMax   -0.180356      0.022019  0.701426    0.299871   \n",
       "cloudCover        0.058609     -0.017678 -0.156622   -0.382609   \n",
       "moonPhase        -0.006214     -0.057401  0.007926    0.076821   \n",
       "\n",
       "                temperatureMin  temperatureMax  cloudCover  moonPhase  \n",
       "Unnamed: 0           -0.101954       -0.107935   -0.012012   0.012916  \n",
       "energy_sum           -0.162209       -0.169893    0.055220  -0.011047  \n",
       "energy_mean          -0.163280       -0.171155    0.056227  -0.007731  \n",
       "energy_max           -0.148734       -0.154002    0.049828  -0.009239  \n",
       "energy_min           -0.053391       -0.055462    0.018324   0.001037  \n",
       "energy_std           -0.173328       -0.180356    0.058609  -0.006214  \n",
       "energy_count          0.018552        0.022019   -0.017678  -0.057401  \n",
       "dayTime               0.640114        0.701426   -0.156622   0.007926  \n",
       "visibility            0.202849        0.299871   -0.382609   0.076821  \n",
       "temperatureMin        1.000000        0.904017   -0.116567   0.004664  \n",
       "temperatureMax        0.904017        1.000000   -0.371125   0.024802  \n",
       "cloudCover           -0.116567       -0.371125    1.000000  -0.074047  \n",
       "moonPhase             0.004664        0.024802   -0.074047   1.000000  "
      ]
     },
     "execution_count": 6,
     "metadata": {},
     "output_type": "execute_result"
    }
   ],
   "source": [
    "df_merged.corr()"
   ]
  },
  {
   "cell_type": "markdown",
   "metadata": {},
   "source": [
    "Group dataframe by date, sorted by ascending date, reset index"
   ]
  },
  {
   "cell_type": "code",
   "execution_count": 7,
   "metadata": {},
   "outputs": [],
   "source": [
    "df_merged = (df_merged.groupby(['day'])\n",
    "            .mean()\n",
    "            .sort_values('day')\n",
    "            .reset_index()\n",
    "            .drop(columns = ['Unnamed: 0'])\n",
    "            )"
   ]
  },
  {
   "cell_type": "code",
   "execution_count": 8,
   "metadata": {},
   "outputs": [
    {
     "data": {
      "text/html": [
       "<div>\n",
       "<style scoped>\n",
       "    .dataframe tbody tr th:only-of-type {\n",
       "        vertical-align: middle;\n",
       "    }\n",
       "\n",
       "    .dataframe tbody tr th {\n",
       "        vertical-align: top;\n",
       "    }\n",
       "\n",
       "    .dataframe thead th {\n",
       "        text-align: right;\n",
       "    }\n",
       "</style>\n",
       "<table border=\"1\" class=\"dataframe\">\n",
       "  <thead>\n",
       "    <tr style=\"text-align: right;\">\n",
       "      <th></th>\n",
       "      <th>day</th>\n",
       "      <th>energy_sum</th>\n",
       "      <th>energy_mean</th>\n",
       "      <th>energy_max</th>\n",
       "      <th>energy_min</th>\n",
       "      <th>energy_std</th>\n",
       "      <th>energy_count</th>\n",
       "      <th>dayTime</th>\n",
       "      <th>visibility</th>\n",
       "      <th>temperatureMin</th>\n",
       "      <th>temperatureMax</th>\n",
       "      <th>cloudCover</th>\n",
       "      <th>moonPhase</th>\n",
       "    </tr>\n",
       "  </thead>\n",
       "  <tbody>\n",
       "    <tr>\n",
       "      <th>0</th>\n",
       "      <td>2011-11-23</td>\n",
       "      <td>6.952692</td>\n",
       "      <td>0.281091</td>\n",
       "      <td>0.756538</td>\n",
       "      <td>0.085615</td>\n",
       "      <td>0.174167</td>\n",
       "      <td>25.692308</td>\n",
       "      <td>8.520000</td>\n",
       "      <td>8.06</td>\n",
       "      <td>3.81</td>\n",
       "      <td>10.36</td>\n",
       "      <td>0.36</td>\n",
       "      <td>0.94</td>\n",
       "    </tr>\n",
       "    <tr>\n",
       "      <th>1</th>\n",
       "      <td>2011-11-24</td>\n",
       "      <td>8.536480</td>\n",
       "      <td>0.234207</td>\n",
       "      <td>0.761840</td>\n",
       "      <td>0.080760</td>\n",
       "      <td>0.156369</td>\n",
       "      <td>36.880000</td>\n",
       "      <td>8.476111</td>\n",
       "      <td>10.64</td>\n",
       "      <td>8.56</td>\n",
       "      <td>12.93</td>\n",
       "      <td>0.41</td>\n",
       "      <td>0.97</td>\n",
       "    </tr>\n",
       "    <tr>\n",
       "      <th>2</th>\n",
       "      <td>2011-11-25</td>\n",
       "      <td>9.499781</td>\n",
       "      <td>0.224901</td>\n",
       "      <td>0.726438</td>\n",
       "      <td>0.071344</td>\n",
       "      <td>0.155090</td>\n",
       "      <td>43.218750</td>\n",
       "      <td>8.433333</td>\n",
       "      <td>12.38</td>\n",
       "      <td>7.46</td>\n",
       "      <td>13.03</td>\n",
       "      <td>0.48</td>\n",
       "      <td>0.01</td>\n",
       "    </tr>\n",
       "    <tr>\n",
       "      <th>3</th>\n",
       "      <td>2011-11-26</td>\n",
       "      <td>10.267707</td>\n",
       "      <td>0.247635</td>\n",
       "      <td>0.826049</td>\n",
       "      <td>0.073220</td>\n",
       "      <td>0.173554</td>\n",
       "      <td>43.243902</td>\n",
       "      <td>8.391944</td>\n",
       "      <td>13.07</td>\n",
       "      <td>7.01</td>\n",
       "      <td>12.96</td>\n",
       "      <td>0.44</td>\n",
       "      <td>0.05</td>\n",
       "    </tr>\n",
       "    <tr>\n",
       "      <th>4</th>\n",
       "      <td>2011-11-27</td>\n",
       "      <td>10.850805</td>\n",
       "      <td>0.226058</td>\n",
       "      <td>0.865463</td>\n",
       "      <td>0.069927</td>\n",
       "      <td>0.175145</td>\n",
       "      <td>48.000000</td>\n",
       "      <td>8.351667</td>\n",
       "      <td>13.08</td>\n",
       "      <td>4.47</td>\n",
       "      <td>13.54</td>\n",
       "      <td>0.42</td>\n",
       "      <td>0.08</td>\n",
       "    </tr>\n",
       "  </tbody>\n",
       "</table>\n",
       "</div>"
      ],
      "text/plain": [
       "          day  energy_sum  energy_mean  energy_max  energy_min  energy_std  \\\n",
       "0  2011-11-23    6.952692     0.281091    0.756538    0.085615    0.174167   \n",
       "1  2011-11-24    8.536480     0.234207    0.761840    0.080760    0.156369   \n",
       "2  2011-11-25    9.499781     0.224901    0.726438    0.071344    0.155090   \n",
       "3  2011-11-26   10.267707     0.247635    0.826049    0.073220    0.173554   \n",
       "4  2011-11-27   10.850805     0.226058    0.865463    0.069927    0.175145   \n",
       "\n",
       "   energy_count   dayTime  visibility  temperatureMin  temperatureMax  \\\n",
       "0     25.692308  8.520000        8.06            3.81           10.36   \n",
       "1     36.880000  8.476111       10.64            8.56           12.93   \n",
       "2     43.218750  8.433333       12.38            7.46           13.03   \n",
       "3     43.243902  8.391944       13.07            7.01           12.96   \n",
       "4     48.000000  8.351667       13.08            4.47           13.54   \n",
       "\n",
       "   cloudCover  moonPhase  \n",
       "0        0.36       0.94  \n",
       "1        0.41       0.97  \n",
       "2        0.48       0.01  \n",
       "3        0.44       0.05  \n",
       "4        0.42       0.08  "
      ]
     },
     "execution_count": 8,
     "metadata": {},
     "output_type": "execute_result"
    }
   ],
   "source": [
    "df_merged.head()"
   ]
  },
  {
   "cell_type": "markdown",
   "metadata": {},
   "source": [
    "Oveerview of correlation between all variables"
   ]
  },
  {
   "cell_type": "code",
   "execution_count": 9,
   "metadata": {},
   "outputs": [
    {
     "data": {
      "text/html": [
       "<div>\n",
       "<style scoped>\n",
       "    .dataframe tbody tr th:only-of-type {\n",
       "        vertical-align: middle;\n",
       "    }\n",
       "\n",
       "    .dataframe tbody tr th {\n",
       "        vertical-align: top;\n",
       "    }\n",
       "\n",
       "    .dataframe thead th {\n",
       "        text-align: right;\n",
       "    }\n",
       "</style>\n",
       "<table border=\"1\" class=\"dataframe\">\n",
       "  <thead>\n",
       "    <tr style=\"text-align: right;\">\n",
       "      <th></th>\n",
       "      <th>energy_sum</th>\n",
       "      <th>energy_mean</th>\n",
       "      <th>energy_max</th>\n",
       "      <th>energy_min</th>\n",
       "      <th>energy_std</th>\n",
       "      <th>energy_count</th>\n",
       "      <th>dayTime</th>\n",
       "      <th>visibility</th>\n",
       "      <th>temperatureMin</th>\n",
       "      <th>temperatureMax</th>\n",
       "      <th>cloudCover</th>\n",
       "      <th>moonPhase</th>\n",
       "    </tr>\n",
       "  </thead>\n",
       "  <tbody>\n",
       "    <tr>\n",
       "      <th>energy_sum</th>\n",
       "      <td>1.000000</td>\n",
       "      <td>0.971418</td>\n",
       "      <td>0.966926</td>\n",
       "      <td>0.564625</td>\n",
       "      <td>0.969559</td>\n",
       "      <td>0.199996</td>\n",
       "      <td>-0.768339</td>\n",
       "      <td>-0.245011</td>\n",
       "      <td>-0.804079</td>\n",
       "      <td>-0.843281</td>\n",
       "      <td>0.240353</td>\n",
       "      <td>-0.033909</td>\n",
       "    </tr>\n",
       "    <tr>\n",
       "      <th>energy_mean</th>\n",
       "      <td>0.971418</td>\n",
       "      <td>1.000000</td>\n",
       "      <td>0.947733</td>\n",
       "      <td>0.713918</td>\n",
       "      <td>0.969947</td>\n",
       "      <td>-0.033329</td>\n",
       "      <td>-0.797207</td>\n",
       "      <td>-0.250845</td>\n",
       "      <td>-0.831273</td>\n",
       "      <td>-0.870275</td>\n",
       "      <td>0.241900</td>\n",
       "      <td>-0.016539</td>\n",
       "    </tr>\n",
       "    <tr>\n",
       "      <th>energy_max</th>\n",
       "      <td>0.966926</td>\n",
       "      <td>0.947733</td>\n",
       "      <td>1.000000</td>\n",
       "      <td>0.516722</td>\n",
       "      <td>0.996123</td>\n",
       "      <td>0.161861</td>\n",
       "      <td>-0.709813</td>\n",
       "      <td>-0.256090</td>\n",
       "      <td>-0.801639</td>\n",
       "      <td>-0.822014</td>\n",
       "      <td>0.218946</td>\n",
       "      <td>-0.025132</td>\n",
       "    </tr>\n",
       "    <tr>\n",
       "      <th>energy_min</th>\n",
       "      <td>0.564625</td>\n",
       "      <td>0.713918</td>\n",
       "      <td>0.516722</td>\n",
       "      <td>1.000000</td>\n",
       "      <td>0.793153</td>\n",
       "      <td>-0.600660</td>\n",
       "      <td>-0.546729</td>\n",
       "      <td>-0.142262</td>\n",
       "      <td>-0.572748</td>\n",
       "      <td>-0.601007</td>\n",
       "      <td>0.165484</td>\n",
       "      <td>0.021400</td>\n",
       "    </tr>\n",
       "    <tr>\n",
       "      <th>energy_std</th>\n",
       "      <td>0.969559</td>\n",
       "      <td>0.969947</td>\n",
       "      <td>0.996123</td>\n",
       "      <td>0.793153</td>\n",
       "      <td>1.000000</td>\n",
       "      <td>-0.008897</td>\n",
       "      <td>-0.744262</td>\n",
       "      <td>-0.265982</td>\n",
       "      <td>-0.830556</td>\n",
       "      <td>-0.856081</td>\n",
       "      <td>0.231014</td>\n",
       "      <td>-0.008420</td>\n",
       "    </tr>\n",
       "    <tr>\n",
       "      <th>energy_count</th>\n",
       "      <td>0.199996</td>\n",
       "      <td>-0.033329</td>\n",
       "      <td>0.161861</td>\n",
       "      <td>-0.600660</td>\n",
       "      <td>-0.008897</td>\n",
       "      <td>1.000000</td>\n",
       "      <td>0.044510</td>\n",
       "      <td>0.008862</td>\n",
       "      <td>0.053193</td>\n",
       "      <td>0.053094</td>\n",
       "      <td>-0.003660</td>\n",
       "      <td>-0.088564</td>\n",
       "    </tr>\n",
       "    <tr>\n",
       "      <th>dayTime</th>\n",
       "      <td>-0.768339</td>\n",
       "      <td>-0.797207</td>\n",
       "      <td>-0.709813</td>\n",
       "      <td>-0.546729</td>\n",
       "      <td>-0.744262</td>\n",
       "      <td>0.044510</td>\n",
       "      <td>1.000000</td>\n",
       "      <td>0.198165</td>\n",
       "      <td>0.632180</td>\n",
       "      <td>0.694892</td>\n",
       "      <td>-0.129595</td>\n",
       "      <td>0.019402</td>\n",
       "    </tr>\n",
       "    <tr>\n",
       "      <th>visibility</th>\n",
       "      <td>-0.245011</td>\n",
       "      <td>-0.250845</td>\n",
       "      <td>-0.256090</td>\n",
       "      <td>-0.142262</td>\n",
       "      <td>-0.265982</td>\n",
       "      <td>0.008862</td>\n",
       "      <td>0.198165</td>\n",
       "      <td>1.000000</td>\n",
       "      <td>0.191942</td>\n",
       "      <td>0.261507</td>\n",
       "      <td>-0.332863</td>\n",
       "      <td>0.061707</td>\n",
       "    </tr>\n",
       "    <tr>\n",
       "      <th>temperatureMin</th>\n",
       "      <td>-0.804079</td>\n",
       "      <td>-0.831273</td>\n",
       "      <td>-0.801639</td>\n",
       "      <td>-0.572748</td>\n",
       "      <td>-0.830556</td>\n",
       "      <td>0.053193</td>\n",
       "      <td>0.632180</td>\n",
       "      <td>0.191942</td>\n",
       "      <td>1.000000</td>\n",
       "      <td>0.896142</td>\n",
       "      <td>-0.062109</td>\n",
       "      <td>-0.013204</td>\n",
       "    </tr>\n",
       "    <tr>\n",
       "      <th>temperatureMax</th>\n",
       "      <td>-0.843281</td>\n",
       "      <td>-0.870275</td>\n",
       "      <td>-0.822014</td>\n",
       "      <td>-0.601007</td>\n",
       "      <td>-0.856081</td>\n",
       "      <td>0.053094</td>\n",
       "      <td>0.694892</td>\n",
       "      <td>0.261507</td>\n",
       "      <td>0.896142</td>\n",
       "      <td>1.000000</td>\n",
       "      <td>-0.333338</td>\n",
       "      <td>0.005851</td>\n",
       "    </tr>\n",
       "    <tr>\n",
       "      <th>cloudCover</th>\n",
       "      <td>0.240353</td>\n",
       "      <td>0.241900</td>\n",
       "      <td>0.218946</td>\n",
       "      <td>0.165484</td>\n",
       "      <td>0.231014</td>\n",
       "      <td>-0.003660</td>\n",
       "      <td>-0.129595</td>\n",
       "      <td>-0.332863</td>\n",
       "      <td>-0.062109</td>\n",
       "      <td>-0.333338</td>\n",
       "      <td>1.000000</td>\n",
       "      <td>-0.064122</td>\n",
       "    </tr>\n",
       "    <tr>\n",
       "      <th>moonPhase</th>\n",
       "      <td>-0.033909</td>\n",
       "      <td>-0.016539</td>\n",
       "      <td>-0.025132</td>\n",
       "      <td>0.021400</td>\n",
       "      <td>-0.008420</td>\n",
       "      <td>-0.088564</td>\n",
       "      <td>0.019402</td>\n",
       "      <td>0.061707</td>\n",
       "      <td>-0.013204</td>\n",
       "      <td>0.005851</td>\n",
       "      <td>-0.064122</td>\n",
       "      <td>1.000000</td>\n",
       "    </tr>\n",
       "  </tbody>\n",
       "</table>\n",
       "</div>"
      ],
      "text/plain": [
       "                energy_sum  energy_mean  energy_max  energy_min  energy_std  \\\n",
       "energy_sum        1.000000     0.971418    0.966926    0.564625    0.969559   \n",
       "energy_mean       0.971418     1.000000    0.947733    0.713918    0.969947   \n",
       "energy_max        0.966926     0.947733    1.000000    0.516722    0.996123   \n",
       "energy_min        0.564625     0.713918    0.516722    1.000000    0.793153   \n",
       "energy_std        0.969559     0.969947    0.996123    0.793153    1.000000   \n",
       "energy_count      0.199996    -0.033329    0.161861   -0.600660   -0.008897   \n",
       "dayTime          -0.768339    -0.797207   -0.709813   -0.546729   -0.744262   \n",
       "visibility       -0.245011    -0.250845   -0.256090   -0.142262   -0.265982   \n",
       "temperatureMin   -0.804079    -0.831273   -0.801639   -0.572748   -0.830556   \n",
       "temperatureMax   -0.843281    -0.870275   -0.822014   -0.601007   -0.856081   \n",
       "cloudCover        0.240353     0.241900    0.218946    0.165484    0.231014   \n",
       "moonPhase        -0.033909    -0.016539   -0.025132    0.021400   -0.008420   \n",
       "\n",
       "                energy_count   dayTime  visibility  temperatureMin  \\\n",
       "energy_sum          0.199996 -0.768339   -0.245011       -0.804079   \n",
       "energy_mean        -0.033329 -0.797207   -0.250845       -0.831273   \n",
       "energy_max          0.161861 -0.709813   -0.256090       -0.801639   \n",
       "energy_min         -0.600660 -0.546729   -0.142262       -0.572748   \n",
       "energy_std         -0.008897 -0.744262   -0.265982       -0.830556   \n",
       "energy_count        1.000000  0.044510    0.008862        0.053193   \n",
       "dayTime             0.044510  1.000000    0.198165        0.632180   \n",
       "visibility          0.008862  0.198165    1.000000        0.191942   \n",
       "temperatureMin      0.053193  0.632180    0.191942        1.000000   \n",
       "temperatureMax      0.053094  0.694892    0.261507        0.896142   \n",
       "cloudCover         -0.003660 -0.129595   -0.332863       -0.062109   \n",
       "moonPhase          -0.088564  0.019402    0.061707       -0.013204   \n",
       "\n",
       "                temperatureMax  cloudCover  moonPhase  \n",
       "energy_sum           -0.843281    0.240353  -0.033909  \n",
       "energy_mean          -0.870275    0.241900  -0.016539  \n",
       "energy_max           -0.822014    0.218946  -0.025132  \n",
       "energy_min           -0.601007    0.165484   0.021400  \n",
       "energy_std           -0.856081    0.231014  -0.008420  \n",
       "energy_count          0.053094   -0.003660  -0.088564  \n",
       "dayTime               0.694892   -0.129595   0.019402  \n",
       "visibility            0.261507   -0.332863   0.061707  \n",
       "temperatureMin        0.896142   -0.062109  -0.013204  \n",
       "temperatureMax        1.000000   -0.333338   0.005851  \n",
       "cloudCover           -0.333338    1.000000  -0.064122  \n",
       "moonPhase             0.005851   -0.064122   1.000000  "
      ]
     },
     "execution_count": 9,
     "metadata": {},
     "output_type": "execute_result"
    }
   ],
   "source": [
    "df_merged.corr()"
   ]
  },
  {
   "cell_type": "markdown",
   "metadata": {},
   "source": [
    "Look at correlation of variables with 'energy_sum'"
   ]
  },
  {
   "cell_type": "code",
   "execution_count": 10,
   "metadata": {},
   "outputs": [
    {
     "data": {
      "text/plain": [
       "energy_sum        1.000000\n",
       "energy_mean       0.971418\n",
       "energy_max        0.966926\n",
       "energy_min        0.564625\n",
       "energy_std        0.969559\n",
       "energy_count      0.199996\n",
       "dayTime          -0.768339\n",
       "visibility       -0.245011\n",
       "temperatureMin   -0.804079\n",
       "temperatureMax   -0.843281\n",
       "cloudCover        0.240353\n",
       "moonPhase        -0.033909\n",
       "Name: energy_sum, dtype: float64"
      ]
     },
     "execution_count": 10,
     "metadata": {},
     "output_type": "execute_result"
    }
   ],
   "source": [
    "df_merged.corr()['energy_sum']"
   ]
  },
  {
   "cell_type": "markdown",
   "metadata": {},
   "source": [
    "The above correlation values show both negative and positive correlation and as well weak and strong correlation among the variables. However, we are interested in how the time of the day('dayTime') and the temperature variables affect the level of energy consumption. On that basis we only need the relevant columns useful to our regression model."
   ]
  },
  {
   "cell_type": "markdown",
   "metadata": {},
   "source": [
    "Select required columns"
   ]
  },
  {
   "cell_type": "code",
   "execution_count": 11,
   "metadata": {},
   "outputs": [
    {
     "data": {
      "text/html": [
       "<div>\n",
       "<style scoped>\n",
       "    .dataframe tbody tr th:only-of-type {\n",
       "        vertical-align: middle;\n",
       "    }\n",
       "\n",
       "    .dataframe tbody tr th {\n",
       "        vertical-align: top;\n",
       "    }\n",
       "\n",
       "    .dataframe thead th {\n",
       "        text-align: right;\n",
       "    }\n",
       "</style>\n",
       "<table border=\"1\" class=\"dataframe\">\n",
       "  <thead>\n",
       "    <tr style=\"text-align: right;\">\n",
       "      <th></th>\n",
       "      <th>energy_sum</th>\n",
       "      <th>temperatureMin</th>\n",
       "      <th>temperatureMax</th>\n",
       "      <th>dayTime</th>\n",
       "    </tr>\n",
       "  </thead>\n",
       "  <tbody>\n",
       "    <tr>\n",
       "      <th>0</th>\n",
       "      <td>6.952692</td>\n",
       "      <td>3.81</td>\n",
       "      <td>10.36</td>\n",
       "      <td>8.520000</td>\n",
       "    </tr>\n",
       "    <tr>\n",
       "      <th>1</th>\n",
       "      <td>8.536480</td>\n",
       "      <td>8.56</td>\n",
       "      <td>12.93</td>\n",
       "      <td>8.476111</td>\n",
       "    </tr>\n",
       "    <tr>\n",
       "      <th>2</th>\n",
       "      <td>9.499781</td>\n",
       "      <td>7.46</td>\n",
       "      <td>13.03</td>\n",
       "      <td>8.433333</td>\n",
       "    </tr>\n",
       "    <tr>\n",
       "      <th>3</th>\n",
       "      <td>10.267707</td>\n",
       "      <td>7.01</td>\n",
       "      <td>12.96</td>\n",
       "      <td>8.391944</td>\n",
       "    </tr>\n",
       "    <tr>\n",
       "      <th>4</th>\n",
       "      <td>10.850805</td>\n",
       "      <td>4.47</td>\n",
       "      <td>13.54</td>\n",
       "      <td>8.351667</td>\n",
       "    </tr>\n",
       "  </tbody>\n",
       "</table>\n",
       "</div>"
      ],
      "text/plain": [
       "   energy_sum  temperatureMin  temperatureMax   dayTime\n",
       "0    6.952692            3.81           10.36  8.520000\n",
       "1    8.536480            8.56           12.93  8.476111\n",
       "2    9.499781            7.46           13.03  8.433333\n",
       "3   10.267707            7.01           12.96  8.391944\n",
       "4   10.850805            4.47           13.54  8.351667"
      ]
     },
     "execution_count": 11,
     "metadata": {},
     "output_type": "execute_result"
    }
   ],
   "source": [
    "model_df = df_merged[[\"energy_sum\", \"temperatureMin\", \"temperatureMax\", \"dayTime\"]]\n",
    "model_df.head()"
   ]
  },
  {
   "cell_type": "markdown",
   "metadata": {},
   "source": [
    "Things are starting to take shape, it's a good idea to visualize the trend between variables before creating a regression model. This approach helps to see the trend and also see data points that can be an outlier which can pose a threat to our model. Below is the scatter plot showing the relationship between our dependent and independent variables."
   ]
  },
  {
   "cell_type": "code",
   "execution_count": 12,
   "metadata": {},
   "outputs": [
    {
     "data": {
      "image/png": "[encoded data removed]",
      "text/plain": [
       "<Figure size 720x504 with 1 Axes>"
      ]
     },
     "metadata": {
      "needs_background": "light"
     },
     "output_type": "display_data"
    }
   ],
   "source": [
    "plt.figure(figsize=(10,7))\n",
    "plt.scatter(df_merged[[\"temperatureMin\"]], df_merged[[\"energy_sum\"]])\n",
    "plt.xlabel(\"temperatureMin\")\n",
    "plt.ylabel(\"energy_sum\")\n",
    "plt.show()"
   ]
  },
  {
   "cell_type": "markdown",
   "metadata": {},
   "source": [
    "From the above plot above there appears to be a fairly strong negative correlation. However, we are skeptical about the isolated datapoint which is almost certainly an outlier. This datapoint doesn't reflect the representation of other points, it's strange to have energy consumption of less than 1 with a minimum temperature of around 4 degrees (see isolated record below). On this basis we will remove this outlier."
   ]
  },
  {
   "cell_type": "code",
   "execution_count": 13,
   "metadata": {},
   "outputs": [
    {
     "data": {
      "text/html": [
       "<div>\n",
       "<style scoped>\n",
       "    .dataframe tbody tr th:only-of-type {\n",
       "        vertical-align: middle;\n",
       "    }\n",
       "\n",
       "    .dataframe tbody tr th {\n",
       "        vertical-align: top;\n",
       "    }\n",
       "\n",
       "    .dataframe thead th {\n",
       "        text-align: right;\n",
       "    }\n",
       "</style>\n",
       "<table border=\"1\" class=\"dataframe\">\n",
       "  <thead>\n",
       "    <tr style=\"text-align: right;\">\n",
       "      <th></th>\n",
       "      <th>energy_sum</th>\n",
       "      <th>temperatureMin</th>\n",
       "      <th>temperatureMax</th>\n",
       "      <th>dayTime</th>\n",
       "    </tr>\n",
       "  </thead>\n",
       "  <tbody>\n",
       "    <tr>\n",
       "      <th>826</th>\n",
       "      <td>0.208997</td>\n",
       "      <td>3.43</td>\n",
       "      <td>7.35</td>\n",
       "      <td>10.829167</td>\n",
       "    </tr>\n",
       "  </tbody>\n",
       "</table>\n",
       "</div>"
      ],
      "text/plain": [
       "     energy_sum  temperatureMin  temperatureMax    dayTime\n",
       "826    0.208997            3.43            7.35  10.829167"
      ]
     },
     "execution_count": 13,
     "metadata": {},
     "output_type": "execute_result"
    }
   ],
   "source": [
    "model_df.loc[model_df[\"energy_sum\"] < 2]"
   ]
  },
  {
   "cell_type": "code",
   "execution_count": 14,
   "metadata": {},
   "outputs": [],
   "source": [
    "model_df.drop(index = 826, inplace = True)"
   ]
  },
  {
   "cell_type": "markdown",
   "metadata": {},
   "source": [
    "Re-plot with outlier removed"
   ]
  },
  {
   "cell_type": "code",
   "execution_count": 15,
   "metadata": {},
   "outputs": [
    {
     "data": {
      "image/png": "[encoded data removed]",
      "text/plain": [
       "<Figure size 720x504 with 1 Axes>"
      ]
     },
     "metadata": {
      "needs_background": "light"
     },
     "output_type": "display_data"
    }
   ],
   "source": [
    "plt.figure(figsize=(10,7))\n",
    "plt.scatter(model_df[[\"temperatureMin\"]], model_df[[\"energy_sum\"]])\n",
    "plt.xlabel(\"temperatureMin\")\n",
    "plt.ylabel(\"energy_sum\")\n",
    "plt.show()"
   ]
  },
  {
   "cell_type": "markdown",
   "metadata": {},
   "source": [
    "Our plot looks better after the removal of the outlier. This plot shows a negative correlation which highlights that as the temperatureMin increases, the energy consumption decreases. Now we can build a linear regression model using the Scikit learn library we imported. We will also create a best fit line for our model which we will use to make predictions."
   ]
  },
  {
   "cell_type": "markdown",
   "metadata": {},
   "source": [
    "## Linear regression model - energy consumption v minimum temperature"
   ]
  },
  {
   "cell_type": "markdown",
   "metadata": {},
   "source": [
    "Fit the regression model"
   ]
  },
  {
   "cell_type": "code",
   "execution_count": 16,
   "metadata": {},
   "outputs": [
    {
     "data": {
      "text/plain": [
       "LinearRegression()"
      ]
     },
     "execution_count": 16,
     "metadata": {},
     "output_type": "execute_result"
    }
   ],
   "source": [
    "regressor1 = LinearRegression()\n",
    "regressor1.fit(model_df[[\"temperatureMin\"]], model_df[[\"energy_sum\"]])"
   ]
  },
  {
   "cell_type": "markdown",
   "metadata": {},
   "source": [
    "Plot regression line onto previous scatterplot"
   ]
  },
  {
   "cell_type": "code",
   "execution_count": 17,
   "metadata": {},
   "outputs": [
    {
     "data": {
      "text/plain": [
       "[<matplotlib.lines.Line2D at 0x24c129aecc0>]"
      ]
     },
     "execution_count": 17,
     "metadata": {},
     "output_type": "execute_result"
    },
    {
     "data": {
      "image/png": "[encoded data removed]",
      "text/plain": [
       "<Figure size 720x504 with 1 Axes>"
      ]
     },
     "metadata": {
      "needs_background": "light"
     },
     "output_type": "display_data"
    }
   ],
   "source": [
    "plt.figure(figsize=(10,7))\n",
    "plt.scatter(model_df[[\"temperatureMin\"]], model_df[[\"energy_sum\"]])\n",
    "plt.xlabel(\"Minimum Temperature\")\n",
    "plt.ylabel(\"Energy consumption sum\")\n",
    "plt.plot(model_df[[\"temperatureMin\"]], regressor1.predict(model_df[[\"temperatureMin\"]]))"
   ]
  },
  {
   "cell_type": "markdown",
   "metadata": {},
   "source": [
    "The regression line shown above authenticates our claim of a negative correlation between 'temperatureMin' and 'energy_sum'. Next is to check the accuracy of the model  by checking the R-Squared value before proceeding to making predictions."
   ]
  },
  {
   "cell_type": "code",
   "execution_count": 18,
   "metadata": {},
   "outputs": [
    {
     "name": "stdout",
     "output_type": "stream",
     "text": [
      "the intercept is [12.66217242]\n",
      "the coefficient is [[-0.30692806]]\n",
      "the R-squared is 0.68\n"
     ]
    }
   ],
   "source": [
    "print(\"the intercept is\", regressor1.intercept_)\n",
    "print(\"the coefficient is\", regressor1.coef_)\n",
    "print(\"the R-squared is\", round(regressor1.score(model_df[[\"temperatureMin\"]], model_df[[\"energy_sum\"]]), 2))"
   ]
  },
  {
   "cell_type": "markdown",
   "metadata": {},
   "source": [
    "An R-squared value of 0.68 shows that the model has a fairly strong correlation, it tells us that 68 percent of the dependent variable variation can can be explained or impacted by our independent variable. The regression line is expected to intercept the y-axis at approximately 12.66, while the coefficient tells us the slope of the regression line -0.31 (the rate of change of our dependent variable relative to the independent variable). Now, let's test our model by doing some predictions of minimum temperature from 21 to 35 and see what the energy consumption might look like. "
   ]
  },
  {
   "cell_type": "code",
   "execution_count": 19,
   "metadata": {},
   "outputs": [
    {
     "name": "stdout",
     "output_type": "stream",
     "text": [
      "[[6.21668318]\n",
      " [5.90975512]\n",
      " [5.60282707]\n",
      " [5.29589901]\n",
      " [4.98897095]\n",
      " [4.68204289]\n",
      " [4.37511483]\n",
      " [4.06818677]\n",
      " [3.76125871]\n",
      " [3.45433065]\n",
      " [3.14740259]\n",
      " [2.84047453]\n",
      " [2.53354647]\n",
      " [2.22661842]\n",
      " [1.91969036]]\n"
     ]
    }
   ],
   "source": [
    "future_temp = np.array(range(21, 36))\n",
    "future_temp = future_temp.reshape(-1, 1)\n",
    "future_energy_consumption = regressor1.predict(future_temp)\n",
    "print(future_energy_consumption)"
   ]
  },
  {
   "cell_type": "markdown",
   "metadata": {},
   "source": [
    "The values above are the predicted energy consumption for minimum temperatures of 21 to 35 degrees. The plot below shows a new regression line - the red line is our newly predicted energy consumption for temperature ranging from 21 to 36 degrees. It's a feasible scenerio to have energy consumption reducing drastically when we have a high minimum temperature which is evident from the plot below."
   ]
  },
  {
   "cell_type": "code",
   "execution_count": 20,
   "metadata": {},
   "outputs": [
    {
     "data": {
      "image/png": "[encoded data removed]",
      "text/plain": [
       "<Figure size 1008x504 with 1 Axes>"
      ]
     },
     "metadata": {
      "needs_background": "light"
     },
     "output_type": "display_data"
    }
   ],
   "source": [
    "plt.figure(figsize=(14,7))\n",
    "plt.scatter(model_df[[\"temperatureMin\"]], model_df[[\"energy_sum\"]])\n",
    "plt.xlabel(\"Minimum Temperature\")\n",
    "plt.ylabel(\"Energy consumption sum\")\n",
    "plt.plot(model_df[[\"temperatureMin\"]], regressor1.predict(model_df[[\"temperatureMin\"]]))\n",
    "plt.plot(future_temp, future_energy_consumption, color=\"r\")\n",
    "plt.show()"
   ]
  },
  {
   "cell_type": "markdown",
   "metadata": {},
   "source": [
    "## Linear regression model - energy consumption v number of daylight hours"
   ]
  },
  {
   "cell_type": "code",
   "execution_count": 21,
   "metadata": {},
   "outputs": [
    {
     "data": {
      "text/plain": [
       "LinearRegression()"
      ]
     },
     "execution_count": 21,
     "metadata": {},
     "output_type": "execute_result"
    }
   ],
   "source": [
    "regressor2 = LinearRegression()\n",
    "regressor2.fit(model_df[[\"dayTime\"]], model_df[[\"energy_sum\"]])"
   ]
  },
  {
   "cell_type": "code",
   "execution_count": 22,
   "metadata": {},
   "outputs": [
    {
     "data": {
      "image/png": "[encoded data removed]",
      "text/plain": [
       "<Figure size 936x504 with 1 Axes>"
      ]
     },
     "metadata": {
      "needs_background": "light"
     },
     "output_type": "display_data"
    }
   ],
   "source": [
    "plt.figure(figsize=(13,7))\n",
    "plt.scatter(model_df[[\"dayTime\"]], model_df[[\"energy_sum\"]])\n",
    "plt.plot(model_df[[\"dayTime\"]], regressor2.predict(model_df[[\"dayTime\"]]), color=\"b\")\n",
    "plt.xlabel(\"dayTime\")\n",
    "plt.ylabel(\"energy consumption sum\")\n",
    "plt.show()"
   ]
  },
  {
   "cell_type": "markdown",
   "metadata": {},
   "source": [
    "The scatter plot above also shows a downward trend which mean that, as expected, more energy is consumed when the days are shorter."
   ]
  },
  {
   "cell_type": "code",
   "execution_count": 23,
   "metadata": {},
   "outputs": [
    {
     "name": "stdout",
     "output_type": "stream",
     "text": [
      "the R-sqaured is 0.59\n",
      "the intercept is [15.98837794]\n",
      "the coefficient is [[-0.47433065]]\n"
     ]
    }
   ],
   "source": [
    "print(\"the R-sqaured is\", round(regressor2.score(df_merged[[\"dayTime\"]], df_merged[[\"energy_sum\"]]),2))\n",
    "print(\"the intercept is\", regressor2.intercept_)\n",
    "print(\"the coefficient is\", regressor2.coef_)"
   ]
  },
  {
   "cell_type": "markdown",
   "metadata": {},
   "source": [
    "Taking a look at the value of our R-squared, we can see that almost 60% of our the energy consumption can be impacted by the number of daylight hours. Our regression line is expected to hit the y-axis just below 16."
   ]
  },
  {
   "cell_type": "code",
   "execution_count": 24,
   "metadata": {},
   "outputs": [
    {
     "data": {
      "text/plain": [
       "array([[7.92475684],\n",
       "       [7.45042618],\n",
       "       [6.97609553],\n",
       "       [6.50176488],\n",
       "       [6.02743422],\n",
       "       [5.55310357]])"
      ]
     },
     "execution_count": 24,
     "metadata": {},
     "output_type": "execute_result"
    }
   ],
   "source": [
    "# predicting the energy likely to be  consumed between 17:00 pm and 22:00 pm\n",
    "evening_time = np.array(range(17, 23))\n",
    "evening_time = evening_time.reshape(-1, 1)\n",
    "energy_consumption = regressor2.predict(evening_time)\n",
    "energy_consumption"
   ]
  },
  {
   "cell_type": "markdown",
   "metadata": {},
   "source": [
    "## Multiple linear regression model - energy consumption v number of daylight hours v minimum temperature (using statsmodels)"
   ]
  },
  {
   "cell_type": "markdown",
   "metadata": {},
   "source": [
    "From our previous linear models we created for our target variable (energy_sum), we can see that two independent variables both show a fairly significant impact. The reason why we carried out two seperate linear regression models was to show how each independent variable affected the energy consumption individually. Next we will use statsmodels to create a multiple regression model."
   ]
  },
  {
   "cell_type": "code",
   "execution_count": 25,
   "metadata": {},
   "outputs": [
    {
     "data": {
      "text/html": [
       "<table class=\"simpletable\">\n",
       "<caption>OLS Regression Results</caption>\n",
       "<tr>\n",
       "  <th>Dep. Variable:</th>       <td>energy_sum</td>    <th>  R-squared:         </th> <td>   0.795</td> \n",
       "</tr>\n",
       "<tr>\n",
       "  <th>Model:</th>                   <td>OLS</td>       <th>  Adj. R-squared:    </th> <td>   0.794</td> \n",
       "</tr>\n",
       "<tr>\n",
       "  <th>Method:</th>             <td>Least Squares</td>  <th>  F-statistic:       </th> <td>   1595.</td> \n",
       "</tr>\n",
       "<tr>\n",
       "  <th>Date:</th>             <td>Tue, 17 Nov 2020</td> <th>  Prob (F-statistic):</th> <td>7.31e-284</td>\n",
       "</tr>\n",
       "<tr>\n",
       "  <th>Time:</th>                 <td>12:08:17</td>     <th>  Log-Likelihood:    </th> <td> -1027.8</td> \n",
       "</tr>\n",
       "<tr>\n",
       "  <th>No. Observations:</th>      <td>   826</td>      <th>  AIC:               </th> <td>   2062.</td> \n",
       "</tr>\n",
       "<tr>\n",
       "  <th>Df Residuals:</th>          <td>   823</td>      <th>  BIC:               </th> <td>   2076.</td> \n",
       "</tr>\n",
       "<tr>\n",
       "  <th>Df Model:</th>              <td>     2</td>      <th>                     </th>     <td> </td>    \n",
       "</tr>\n",
       "<tr>\n",
       "  <th>Covariance Type:</th>      <td>nonrobust</td>    <th>                     </th>     <td> </td>    \n",
       "</tr>\n",
       "</table>\n",
       "<table class=\"simpletable\">\n",
       "<tr>\n",
       "         <td></td>           <th>coef</th>     <th>std err</th>      <th>t</th>      <th>P>|t|</th>  <th>[0.025</th>    <th>0.975]</th>  \n",
       "</tr>\n",
       "<tr>\n",
       "  <th>const</th>          <td>   15.0332</td> <td>    0.122</td> <td>  123.109</td> <td> 0.000</td> <td>   14.793</td> <td>   15.273</td>\n",
       "</tr>\n",
       "<tr>\n",
       "  <th>dayTime</th>        <td>   -0.2653</td> <td>    0.012</td> <td>  -21.531</td> <td> 0.000</td> <td>   -0.289</td> <td>   -0.241</td>\n",
       "</tr>\n",
       "<tr>\n",
       "  <th>temperatureMin</th> <td>   -0.2037</td> <td>    0.008</td> <td>  -26.847</td> <td> 0.000</td> <td>   -0.219</td> <td>   -0.189</td>\n",
       "</tr>\n",
       "</table>\n",
       "<table class=\"simpletable\">\n",
       "<tr>\n",
       "  <th>Omnibus:</th>       <td>43.444</td> <th>  Durbin-Watson:     </th> <td>   0.612</td>\n",
       "</tr>\n",
       "<tr>\n",
       "  <th>Prob(Omnibus):</th> <td> 0.000</td> <th>  Jarque-Bera (JB):  </th> <td> 141.613</td>\n",
       "</tr>\n",
       "<tr>\n",
       "  <th>Skew:</th>          <td>-0.097</td> <th>  Prob(JB):          </th> <td>1.77e-31</td>\n",
       "</tr>\n",
       "<tr>\n",
       "  <th>Kurtosis:</th>      <td> 5.019</td> <th>  Cond. No.          </th> <td>    62.2</td>\n",
       "</tr>\n",
       "</table><br/><br/>Warnings:<br/>[1] Standard Errors assume that the covariance matrix of the errors is correctly specified."
      ],
      "text/plain": [
       "<class 'statsmodels.iolib.summary.Summary'>\n",
       "\"\"\"\n",
       "                            OLS Regression Results                            \n",
       "==============================================================================\n",
       "Dep. Variable:             energy_sum   R-squared:                       0.795\n",
       "Model:                            OLS   Adj. R-squared:                  0.794\n",
       "Method:                 Least Squares   F-statistic:                     1595.\n",
       "Date:                Tue, 17 Nov 2020   Prob (F-statistic):          7.31e-284\n",
       "Time:                        12:08:17   Log-Likelihood:                -1027.8\n",
       "No. Observations:                 826   AIC:                             2062.\n",
       "Df Residuals:                     823   BIC:                             2076.\n",
       "Df Model:                           2                                         \n",
       "Covariance Type:            nonrobust                                         \n",
       "==================================================================================\n",
       "                     coef    std err          t      P>|t|      [0.025      0.975]\n",
       "----------------------------------------------------------------------------------\n",
       "const             15.0332      0.122    123.109      0.000      14.793      15.273\n",
       "dayTime           -0.2653      0.012    -21.531      0.000      -0.289      -0.241\n",
       "temperatureMin    -0.2037      0.008    -26.847      0.000      -0.219      -0.189\n",
       "==============================================================================\n",
       "Omnibus:                       43.444   Durbin-Watson:                   0.612\n",
       "Prob(Omnibus):                  0.000   Jarque-Bera (JB):              141.613\n",
       "Skew:                          -0.097   Prob(JB):                     1.77e-31\n",
       "Kurtosis:                       5.019   Cond. No.                         62.2\n",
       "==============================================================================\n",
       "\n",
       "Warnings:\n",
       "[1] Standard Errors assume that the covariance matrix of the errors is correctly specified.\n",
       "\"\"\""
      ]
     },
     "execution_count": 25,
     "metadata": {},
     "output_type": "execute_result"
    }
   ],
   "source": [
    "model_df = sm.add_constant(model_df)\n",
    "model_df_y = model_df[\"energy_sum\"]\n",
    "model_df_x = model_df[['const','dayTime', 'temperatureMin']]\n",
    "model_df_ols = sm.OLS(model_df_y, model_df_x).fit()\n",
    "model_df_ols.summary()"
   ]
  },
  {
   "cell_type": "markdown",
   "metadata": {},
   "source": [
    "From the statistical summary above, we can see a lot of information regarding our OLS regression model between our independent variables and the dependent variable. Below is the significant information:\n",
    "- An adjusted R-squared value of 0.79 shows that the model is accurate and it also tells us that almost 80% of the energy consumption variation can be eplained or impacted by both independent variables.\n",
    "- A p value of less than 0.05 shows a statistical significance of our claim that the two independent variable impacts our target variable."
   ]
  },
  {
   "cell_type": "markdown",
   "metadata": {},
   "source": [
    "**CONCLUSION**"
   ]
  },
  {
   "cell_type": "markdown",
   "metadata": {},
   "source": [
    "Due to all the statistical evidence, visualizations and the predictions we carried out, we can say it's true that the energy sum is impacted by the temperature and the daytime."
   ]
  },
  {
   "cell_type": "code",
   "execution_count": null,
   "metadata": {},
   "outputs": [],
   "source": []
  }
 ],
 "metadata": {
  "kernelspec": {
   "display_name": "Python 3",
   "language": "python",
   "name": "python3"
  },
  "language_info": {
   "codemirror_mode": {
    "name": "ipython",
    "version": 3
   },
   "file_extension": ".py",
   "mimetype": "text/x-python",
   "name": "python",
   "nbconvert_exporter": "python",
   "pygments_lexer": "ipython3",
   "version": "3.7.1"
  }
 },
 "nbformat": 4,
 "nbformat_minor": 4
}
