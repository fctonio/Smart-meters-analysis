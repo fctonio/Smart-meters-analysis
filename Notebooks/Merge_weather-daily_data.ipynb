{
 "cells": [
  {
   "cell_type": "markdown",
   "metadata": {},
   "source": [
    "# Merge 'weather_daily_darksky_clean.csv' with 'daily_dataset_clean.csv'"
   ]
  },
  {
   "cell_type": "markdown",
   "metadata": {},
   "source": [
    "### Import libraries"
   ]
  },
  {
   "cell_type": "code",
   "execution_count": 1,
   "metadata": {},
   "outputs": [],
   "source": [
    "import pandas as pd\n",
    "pd.set_option('display.max_columns', None)"
   ]
  },
  {
   "cell_type": "markdown",
   "metadata": {},
   "source": [
    "### Read .csv files into dataframes"
   ]
  },
  {
   "cell_type": "code",
   "execution_count": 2,
   "metadata": {},
   "outputs": [],
   "source": [
    "df_weather = pd.read_csv(\"../Data/weather_daily_darksky_clean.csv\")"
   ]
  },
  {
   "cell_type": "code",
   "execution_count": 3,
   "metadata": {},
   "outputs": [],
   "source": [
    "df_daily = pd.read_csv(\"../Data/daily_dataset_clean.csv\")"
   ]
  },
  {
   "cell_type": "markdown",
   "metadata": {},
   "source": [
    "### Check data types of columns to be be merged on"
   ]
  },
  {
   "cell_type": "code",
   "execution_count": 4,
   "metadata": {},
   "outputs": [
    {
     "data": {
      "text/plain": [
       "dtype('O')"
      ]
     },
     "execution_count": 4,
     "metadata": {},
     "output_type": "execute_result"
    }
   ],
   "source": [
    "df_weather.time.dtypes"
   ]
  },
  {
   "cell_type": "code",
   "execution_count": 5,
   "metadata": {},
   "outputs": [
    {
     "data": {
      "text/plain": [
       "dtype('O')"
      ]
     },
     "execution_count": 5,
     "metadata": {},
     "output_type": "execute_result"
    }
   ],
   "source": [
    "df_daily.day.dtypes"
   ]
  },
  {
   "cell_type": "markdown",
   "metadata": {},
   "source": [
    "### Transform data types to date"
   ]
  },
  {
   "cell_type": "code",
   "execution_count": 6,
   "metadata": {},
   "outputs": [
    {
     "data": {
      "text/plain": [
       "13    2011-11-01\n",
       "60    2011-11-02\n",
       "34    2011-11-03\n",
       "31    2011-11-04\n",
       "46    2011-11-05\n",
       "         ...    \n",
       "874   2014-03-27\n",
       "876   2014-03-28\n",
       "867   2014-03-29\n",
       "844   2014-03-30\n",
       "830   2014-03-30\n",
       "Name: time, Length: 882, dtype: datetime64[ns]"
      ]
     },
     "execution_count": 6,
     "metadata": {},
     "output_type": "execute_result"
    }
   ],
   "source": [
    "df_weather.time = pd.to_datetime(df_weather.time).dt.date\n",
    "df_weather['time'] = pd.to_datetime(df_weather['time'])\n",
    "df_weather = df_weather.sort_values(by = ['time'])\n",
    "df_weather['time'] "
   ]
  },
  {
   "cell_type": "code",
   "execution_count": 7,
   "metadata": {},
   "outputs": [
    {
     "data": {
      "text/plain": [
       "2284874   2011-11-23\n",
       "1727195   2011-11-23\n",
       "2123541   2011-11-23\n",
       "614605    2011-11-23\n",
       "867855    2011-11-23\n",
       "             ...    \n",
       "1193090   2014-02-28\n",
       "3112126   2014-02-28\n",
       "1192269   2014-02-28\n",
       "1197434   2014-02-28\n",
       "3510402   2014-02-28\n",
       "Name: day, Length: 3510403, dtype: datetime64[ns]"
      ]
     },
     "execution_count": 7,
     "metadata": {},
     "output_type": "execute_result"
    }
   ],
   "source": [
    "df_daily.day = pd.to_datetime(df_daily.day,format = '%Y/%m/%d')\n",
    "df_daily = df_daily.sort_values(by = ['day'])\n",
    "df_daily.day"
   ]
  },
  {
   "cell_type": "markdown",
   "metadata": {},
   "source": [
    "### Merge the two dataframes"
   ]
  },
  {
   "cell_type": "code",
   "execution_count": 8,
   "metadata": {},
   "outputs": [],
   "source": [
    "df_merged = df_weather.merge(df_daily, left_on='time', right_on='day')"
   ]
  },
  {
   "cell_type": "markdown",
   "metadata": {},
   "source": [
    "### Check columns of merged dataframe"
   ]
  },
  {
   "cell_type": "code",
   "execution_count": 9,
   "metadata": {
    "scrolled": true
   },
   "outputs": [
    {
     "data": {
      "text/plain": [
       "Index(['temperatureMax', 'temperatureMaxTime', 'windBearing', 'icon',\n",
       "       'dewPoint', 'temperatureMinTime', 'cloudCover', 'windSpeed', 'pressure',\n",
       "       'apparentTemperatureMinTime', 'apparentTemperatureHigh', 'precipType',\n",
       "       'visibility', 'humidity', 'apparentTemperatureHighTime',\n",
       "       'apparentTemperatureLow', 'apparentTemperatureMax', 'uvIndex', 'time',\n",
       "       'sunsetTime', 'temperatureLow', 'temperatureMin', 'temperatureHigh',\n",
       "       'sunriseTime', 'temperatureHighTime', 'uvIndexTime', 'summary',\n",
       "       'temperatureLowTime', 'apparentTemperatureMin',\n",
       "       'apparentTemperatureMaxTime', 'apparentTemperatureLowTime', 'moonPhase',\n",
       "       'LCLid', 'day', 'energy_median', 'energy_mean', 'energy_max',\n",
       "       'energy_count', 'energy_std', 'energy_sum', 'energy_min'],\n",
       "      dtype='object')"
      ]
     },
     "execution_count": 9,
     "metadata": {},
     "output_type": "execute_result"
    }
   ],
   "source": [
    "df_merged.columns"
   ]
  },
  {
   "cell_type": "markdown",
   "metadata": {},
   "source": [
    "### Inspect data type of 'sunsetTime' & 'sunriseTime' columns"
   ]
  },
  {
   "cell_type": "code",
   "execution_count": 10,
   "metadata": {},
   "outputs": [
    {
     "data": {
      "text/plain": [
       "dtype('O')"
      ]
     },
     "execution_count": 10,
     "metadata": {},
     "output_type": "execute_result"
    }
   ],
   "source": [
    "df_merged.sunsetTime.dtypes"
   ]
  },
  {
   "cell_type": "code",
   "execution_count": 11,
   "metadata": {},
   "outputs": [
    {
     "data": {
      "text/plain": [
       "dtype('O')"
      ]
     },
     "execution_count": 11,
     "metadata": {},
     "output_type": "execute_result"
    }
   ],
   "source": [
    "df_merged.sunriseTime.dtypes"
   ]
  },
  {
   "cell_type": "markdown",
   "metadata": {},
   "source": [
    "### Transform data types to date"
   ]
  },
  {
   "cell_type": "code",
   "execution_count": 12,
   "metadata": {},
   "outputs": [],
   "source": [
    "df_merged['sunsetTime'] = pd.to_datetime(df_merged['sunsetTime'])\n",
    "df_merged['sunriseTime'] = pd.to_datetime(df_merged['sunriseTime'])"
   ]
  },
  {
   "cell_type": "markdown",
   "metadata": {},
   "source": [
    "### Calculate the number of daylight hours for each day"
   ]
  },
  {
   "cell_type": "code",
   "execution_count": 13,
   "metadata": {},
   "outputs": [],
   "source": [
    "df_merged['dayTime'] = df_merged['sunsetTime'] - df_merged['sunriseTime']\n",
    "df_merged['dayTime'] = df_merged['dayTime'] / pd.offsets.Hour()"
   ]
  },
  {
   "cell_type": "markdown",
   "metadata": {},
   "source": [
    "### Drop unnecessary columns"
   ]
  },
  {
   "cell_type": "code",
   "execution_count": 14,
   "metadata": {},
   "outputs": [],
   "source": [
    "df_merged = df_merged.drop(columns = ['temperatureMaxTime',\n",
    "                                      'windBearing',\n",
    "                                      'dewPoint',\n",
    "                                      'temperatureMinTime',\n",
    "                                      'windSpeed',\n",
    "                                      'pressure',\n",
    "                                      'apparentTemperatureMinTime', \n",
    "                                      'apparentTemperatureHigh', \n",
    "                                      'precipType',\n",
    "                                      'apparentTemperatureHighTime',\n",
    "                                      'apparentTemperatureLow',\n",
    "                                      'apparentTemperatureMax',\n",
    "                                      'uvIndex', \n",
    "                                      'time',\n",
    "                                      'temperatureHighTime',\n",
    "                                      'uvIndexTime', \n",
    "                                      'summary',\n",
    "                                      'temperatureLowTime',\n",
    "                                      'apparentTemperatureMin',\n",
    "                                      'apparentTemperatureMaxTime', \n",
    "                                      'apparentTemperatureLowTime',\n",
    "                                      'humidity',\n",
    "                                      'sunsetTime',\n",
    "                                      'sunriseTime',\n",
    "                                      'temperatureLow',\n",
    "                                      'temperatureHigh',\n",
    "                                     ])"
   ]
  },
  {
   "cell_type": "markdown",
   "metadata": {},
   "source": [
    "Double check data types"
   ]
  },
  {
   "cell_type": "code",
   "execution_count": 15,
   "metadata": {},
   "outputs": [
    {
     "name": "stdout",
     "output_type": "stream",
     "text": [
      "<class 'pandas.core.frame.DataFrame'>\n",
      "Int64Index: 3506288 entries, 0 to 3506287\n",
      "Data columns (total 16 columns):\n",
      " #   Column          Dtype         \n",
      "---  ------          -----         \n",
      " 0   temperatureMax  float64       \n",
      " 1   icon            object        \n",
      " 2   cloudCover      float64       \n",
      " 3   visibility      float64       \n",
      " 4   temperatureMin  float64       \n",
      " 5   moonPhase       float64       \n",
      " 6   LCLid           object        \n",
      " 7   day             datetime64[ns]\n",
      " 8   energy_median   float64       \n",
      " 9   energy_mean     float64       \n",
      " 10  energy_max      float64       \n",
      " 11  energy_count    int64         \n",
      " 12  energy_std      float64       \n",
      " 13  energy_sum      float64       \n",
      " 14  energy_min      float64       \n",
      " 15  dayTime         float64       \n",
      "dtypes: datetime64[ns](1), float64(12), int64(1), object(2)\n",
      "memory usage: 454.8+ MB\n"
     ]
    }
   ],
   "source": [
    "df_merged.info()"
   ]
  },
  {
   "cell_type": "markdown",
   "metadata": {},
   "source": [
    "### Rearrange column order"
   ]
  },
  {
   "cell_type": "code",
   "execution_count": 16,
   "metadata": {},
   "outputs": [],
   "source": [
    "df_merged = df_merged[['day', 'LCLid', 'energy_sum', 'energy_mean','energy_max', 'energy_min',\n",
    "                       'energy_std', 'energy_count', 'dayTime', 'visibility', 'temperatureMin',\n",
    "                       'temperatureMax','icon', 'cloudCover', 'moonPhase',  \n",
    "                        ]]"
   ]
  },
  {
   "cell_type": "markdown",
   "metadata": {},
   "source": [
    "### Export merged dataframe to .csv file"
   ]
  },
  {
   "cell_type": "code",
   "execution_count": 17,
   "metadata": {},
   "outputs": [],
   "source": [
    "df_merged.to_csv(\"../Data/daily_weather_merged.csv\")"
   ]
  },
  {
   "cell_type": "code",
   "execution_count": null,
   "metadata": {},
   "outputs": [],
   "source": []
  }
 ],
 "metadata": {
  "kernelspec": {
   "display_name": "Python 3",
   "language": "python",
   "name": "python3"
  },
  "language_info": {
   "codemirror_mode": {
    "name": "ipython",
    "version": 3
   },
   "file_extension": ".py",
   "mimetype": "text/x-python",
   "name": "python",
   "nbconvert_exporter": "python",
   "pygments_lexer": "ipython3",
   "version": "3.7.1"
  }
 },
 "nbformat": 4,
 "nbformat_minor": 4
}
