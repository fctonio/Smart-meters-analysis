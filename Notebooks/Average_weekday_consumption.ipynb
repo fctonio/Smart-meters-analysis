{
 "cells": [
  {
   "cell_type": "markdown",
   "metadata": {},
   "source": [
    "# Calculating average weekday consumption"
   ]
  },
  {
   "cell_type": "code",
   "execution_count": 1,
   "metadata": {},
   "outputs": [],
   "source": [
    "import pandas as pd\n",
    "import numpy as np\n",
    "from datetime import date\n",
    "import calendar"
   ]
  },
  {
   "cell_type": "markdown",
   "metadata": {},
   "source": [
    "## Read daily_dataset.csv into dataframe"
   ]
  },
  {
   "cell_type": "code",
   "execution_count": 2,
   "metadata": {},
   "outputs": [],
   "source": [
    "df_daily = pd.read_csv(\"../Data/daily_dataset.csv\")"
   ]
  },
  {
   "cell_type": "markdown",
   "metadata": {},
   "source": [
    "## Group dataframe by day of the week"
   ]
  },
  {
   "cell_type": "markdown",
   "metadata": {},
   "source": [
    "Group dataframe by day and take the mean of the remaining numerical columns"
   ]
  },
  {
   "cell_type": "code",
   "execution_count": 3,
   "metadata": {},
   "outputs": [],
   "source": [
    "df_daily = df_daily.groupby(by =['day']).mean().sort_values(by = ['day'])"
   ]
  },
  {
   "cell_type": "markdown",
   "metadata": {},
   "source": [
    "## Assign day to number relating to position in the week"
   ]
  },
  {
   "cell_type": "markdown",
   "metadata": {},
   "source": [
    "Finding weekday for every date in the range '2011-11-23' to '2014-02-28'.<br /> \n",
    "0 -> Monday<br />\n",
    "1 -> Tuesday<br />\n",
    "2 -> Wednesday<br />\n",
    "3 -> Thursday<br />\n",
    "4 -> Friday<br />\n",
    "5 -> Saturday<br />\n",
    "6 -> Sunday"
   ]
  },
  {
   "cell_type": "code",
   "execution_count": 4,
   "metadata": {},
   "outputs": [],
   "source": [
    "df_daily['Weekday'] = pd.date_range('2011-11-23', '2014-02-28', freq='D').to_series().dt.dayofweek"
   ]
  },
  {
   "cell_type": "markdown",
   "metadata": {},
   "source": [
    "Reset index"
   ]
  },
  {
   "cell_type": "code",
   "execution_count": 5,
   "metadata": {},
   "outputs": [],
   "source": [
    "df_daily = df_daily.reset_index()"
   ]
  },
  {
   "cell_type": "markdown",
   "metadata": {},
   "source": [
    "## Group dataframe by weekday"
   ]
  },
  {
   "cell_type": "code",
   "execution_count": 6,
   "metadata": {},
   "outputs": [],
   "source": [
    "df_daily = df_daily.groupby(by =['Weekday']).mean().reset_index()"
   ]
  },
  {
   "cell_type": "code",
   "execution_count": 7,
   "metadata": {
    "scrolled": true
   },
   "outputs": [
    {
     "data": {
      "text/html": [
       "<div>\n",
       "<style scoped>\n",
       "    .dataframe tbody tr th:only-of-type {\n",
       "        vertical-align: middle;\n",
       "    }\n",
       "\n",
       "    .dataframe tbody tr th {\n",
       "        vertical-align: top;\n",
       "    }\n",
       "\n",
       "    .dataframe thead th {\n",
       "        text-align: right;\n",
       "    }\n",
       "</style>\n",
       "<table border=\"1\" class=\"dataframe\">\n",
       "  <thead>\n",
       "    <tr style=\"text-align: right;\">\n",
       "      <th></th>\n",
       "      <th>Weekday</th>\n",
       "      <th>energy_median</th>\n",
       "      <th>energy_mean</th>\n",
       "      <th>energy_max</th>\n",
       "      <th>energy_count</th>\n",
       "      <th>energy_std</th>\n",
       "      <th>energy_sum</th>\n",
       "      <th>energy_min</th>\n",
       "    </tr>\n",
       "  </thead>\n",
       "  <tbody>\n",
       "    <tr>\n",
       "      <th>0</th>\n",
       "      <td>0</td>\n",
       "      <td>0.161065</td>\n",
       "      <td>0.217150</td>\n",
       "      <td>0.863334</td>\n",
       "      <td>47.752941</td>\n",
       "      <td>0.179280</td>\n",
       "      <td>10.356108</td>\n",
       "      <td>0.060026</td>\n",
       "    </tr>\n",
       "    <tr>\n",
       "      <th>1</th>\n",
       "      <td>1</td>\n",
       "      <td>0.158900</td>\n",
       "      <td>0.214194</td>\n",
       "      <td>0.850998</td>\n",
       "      <td>47.770979</td>\n",
       "      <td>0.176307</td>\n",
       "      <td>10.222825</td>\n",
       "      <td>0.059956</td>\n",
       "    </tr>\n",
       "    <tr>\n",
       "      <th>2</th>\n",
       "      <td>2</td>\n",
       "      <td>0.159926</td>\n",
       "      <td>0.214413</td>\n",
       "      <td>0.845657</td>\n",
       "      <td>47.485028</td>\n",
       "      <td>0.175402</td>\n",
       "      <td>10.167137</td>\n",
       "      <td>0.060416</td>\n",
       "    </tr>\n",
       "    <tr>\n",
       "      <th>3</th>\n",
       "      <td>3</td>\n",
       "      <td>0.158467</td>\n",
       "      <td>0.213291</td>\n",
       "      <td>0.845417</td>\n",
       "      <td>47.672861</td>\n",
       "      <td>0.174859</td>\n",
       "      <td>10.151652</td>\n",
       "      <td>0.060149</td>\n",
       "    </tr>\n",
       "    <tr>\n",
       "      <th>4</th>\n",
       "      <td>4</td>\n",
       "      <td>0.160802</td>\n",
       "      <td>0.214239</td>\n",
       "      <td>0.839483</td>\n",
       "      <td>47.317442</td>\n",
       "      <td>0.174913</td>\n",
       "      <td>10.131449</td>\n",
       "      <td>0.061359</td>\n",
       "    </tr>\n",
       "    <tr>\n",
       "      <th>5</th>\n",
       "      <td>5</td>\n",
       "      <td>0.166045</td>\n",
       "      <td>0.219756</td>\n",
       "      <td>0.856689</td>\n",
       "      <td>47.786964</td>\n",
       "      <td>0.177921</td>\n",
       "      <td>10.490605</td>\n",
       "      <td>0.061333</td>\n",
       "    </tr>\n",
       "    <tr>\n",
       "      <th>6</th>\n",
       "      <td>6</td>\n",
       "      <td>0.170950</td>\n",
       "      <td>0.229456</td>\n",
       "      <td>0.904259</td>\n",
       "      <td>47.912407</td>\n",
       "      <td>0.190366</td>\n",
       "      <td>10.995271</td>\n",
       "      <td>0.061595</td>\n",
       "    </tr>\n",
       "  </tbody>\n",
       "</table>\n",
       "</div>"
      ],
      "text/plain": [
       "   Weekday  energy_median  energy_mean  energy_max  energy_count  energy_std  \\\n",
       "0        0       0.161065     0.217150    0.863334     47.752941    0.179280   \n",
       "1        1       0.158900     0.214194    0.850998     47.770979    0.176307   \n",
       "2        2       0.159926     0.214413    0.845657     47.485028    0.175402   \n",
       "3        3       0.158467     0.213291    0.845417     47.672861    0.174859   \n",
       "4        4       0.160802     0.214239    0.839483     47.317442    0.174913   \n",
       "5        5       0.166045     0.219756    0.856689     47.786964    0.177921   \n",
       "6        6       0.170950     0.229456    0.904259     47.912407    0.190366   \n",
       "\n",
       "   energy_sum  energy_min  \n",
       "0   10.356108    0.060026  \n",
       "1   10.222825    0.059956  \n",
       "2   10.167137    0.060416  \n",
       "3   10.151652    0.060149  \n",
       "4   10.131449    0.061359  \n",
       "5   10.490605    0.061333  \n",
       "6   10.995271    0.061595  "
      ]
     },
     "execution_count": 7,
     "metadata": {},
     "output_type": "execute_result"
    }
   ],
   "source": [
    "df_daily"
   ]
  },
  {
   "cell_type": "markdown",
   "metadata": {},
   "source": [
    "## Plot results in bar plot"
   ]
  },
  {
   "cell_type": "code",
   "execution_count": 8,
   "metadata": {},
   "outputs": [
    {
     "data": {
      "text/plain": [
       "<matplotlib.axes._subplots.AxesSubplot at 0x7ffa3cdc00d0>"
      ]
     },
     "execution_count": 8,
     "metadata": {},
     "output_type": "execute_result"
    },
    {
     "data": {
      "image/png": "[encoded data removed]",
      "text/plain": [
       "<Figure size 432x288 with 1 Axes>"
      ]
     },
     "metadata": {
      "needs_background": "light"
     },
     "output_type": "display_data"
    }
   ],
   "source": [
    "df_daily.plot.bar(x = 'Weekday', y = 'energy_sum')"
   ]
  },
  {
   "cell_type": "code",
   "execution_count": 9,
   "metadata": {},
   "outputs": [],
   "source": [
    "#df_daily.to_csv(\"../Data/weekday_consumption.csv\")"
   ]
  },
  {
   "cell_type": "code",
   "execution_count": null,
   "metadata": {},
   "outputs": [],
   "source": []
  }
 ],
 "metadata": {
  "kernelspec": {
   "display_name": "Python 3",
   "language": "python",
   "name": "python3"
  },
  "language_info": {
   "codemirror_mode": {
    "name": "ipython",
    "version": 3
   },
   "file_extension": ".py",
   "mimetype": "text/x-python",
   "name": "python",
   "nbconvert_exporter": "python",
   "pygments_lexer": "ipython3",
   "version": "3.7.1"
  }
 },
 "nbformat": 4,
 "nbformat_minor": 4
}
